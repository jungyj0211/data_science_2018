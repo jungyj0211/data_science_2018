{
 "cells": [
  {
   "cell_type": "markdown",
   "metadata": {},
   "source": [
    "# 요약 및 정리"
   ]
  },
  {
   "cell_type": "markdown",
   "metadata": {},
   "source": [
    "- 실제 머신러닝 App.에서는 모델을 단독으로 사용하는 경우가 거의 없으며 여러 처리 단계가 연속해서 이루어짐.\n",
    "- Pipeline을 사용하면 여러 단계를 하나의 파이썬 객체로 캡슐화해주고 scikit-learn의 fit, predict, transform 인터페이스를 사용할 수 있음\n",
    "- 특히, 교차 검증을 사용하여 모델을 평가하고 그리드 서치를 사용하여 매개변수 선택을 할 때 모든 처리단계를 Pipeline으로 묶는 것은 올바른 평가를 위해 필수적\n",
    "- 또한 Pipeline 파이썬 클래스는 코드를 간결하게 작성하도록 도와주고, Pipeline을 사용하지 않고 처리 단계를 구현할 때 발생할 수 있는 실수를 방지해 줌\n",
    "- 특성 추출, 전처리, 모델의 완벽한 조합을 찾는 것은 어느 정도 시행착오가 필요하나 Pipeline을 사용하면 여러 다른 처리 단계를 손쉽게 시도해 볼 수 있음\n",
    "- 실험 단계에서는 처리 단계를 너무 복잡하게 만들지 말고, 모델에 포함된 모든 요소가 꼭 필요한 것인지 평가해야 함"
   ]
  }
 ],
 "metadata": {
  "kernelspec": {
   "display_name": "Python 3",
   "language": "python",
   "name": "python3"
  },
  "language_info": {
   "codemirror_mode": {
    "name": "ipython",
    "version": 3
   },
   "file_extension": ".py",
   "mimetype": "text/x-python",
   "name": "python",
   "nbconvert_exporter": "python",
   "pygments_lexer": "ipython3",
   "version": "3.6.4"
  }
 },
 "nbformat": 4,
 "nbformat_minor": 2
}

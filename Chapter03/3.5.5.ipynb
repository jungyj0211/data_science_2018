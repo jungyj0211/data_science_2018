{
 "cells": [
  {
   "cell_type": "markdown",
   "metadata": {},
   "source": [
    "#### 군집 알고리즘 요약\n",
    "- k-means\n",
    "  - 장점\n",
    "    - 클러스터의 Center를 명확히 짚어낼 수 있음 \n",
    "- agglomerative clustering\n",
    "  - 장점\n",
    "    - 전체 데이터의 분할 계층도인 Dendrogram 시각화 가능\n",
    "- DBSCAN\n",
    "  - 장점\n",
    "    - 클러스터에 속하지 않은 잡음 포인트를 인식할 수 있음\n",
    "    - 클러스터 개수가 자동으로 결정됨\n",
    "    - 복잡한 모양의 클러스터 형태 구분 가능"
   ]
  }
 ],
 "metadata": {
  "kernelspec": {
   "display_name": "Python 3",
   "language": "python",
   "name": "python3"
  },
  "language_info": {
   "codemirror_mode": {
    "name": "ipython",
    "version": 3
   },
   "file_extension": ".py",
   "mimetype": "text/x-python",
   "name": "python",
   "nbconvert_exporter": "python",
   "pygments_lexer": "ipython3",
   "version": "3.6.1"
  }
 },
 "nbformat": 4,
 "nbformat_minor": 2
}

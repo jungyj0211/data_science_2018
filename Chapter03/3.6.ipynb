{
 "cells": [
  {
   "cell_type": "markdown",
   "metadata": {},
   "source": [
    "# 요약 및 정리"
   ]
  },
  {
   "cell_type": "markdown",
   "metadata": {},
   "source": [
    "### 추정기 인터페이스 요약"
   ]
  },
  {
   "cell_type": "code",
   "execution_count": 1,
   "metadata": {},
   "outputs": [],
   "source": [
    "from sklearn.linear_model import LogisticRegression\n",
    "logreg = LogisticRegression()"
   ]
  },
  {
   "cell_type": "markdown",
   "metadata": {},
   "source": [
    "- 추정기 클래스는 알고리즘을 포함하고 있고 데이터에서 학습한 모델을 저장\n",
    "- 모델 객체를 구성할 때 필요한 매개변수 지정 필요\n",
    "  - 규제, 복잡도 제어, 찾을 클래스트 개수 등\n",
    "- fit 메서드는 항상 첫 번째 매개변수로 데이터 X를 필요로함\n",
    "- 하나의 데이터 포인트가 하나의 행이고 연속된 실수값으로 표현된 NumPy 배열이거나 SciPy 희소 행렬\n",
    "- 지도 학습 알고리즘은 회귀나 분류에서 필요한 타깃값을 가지고 있는 1차원 NumPy배열인 y 매개변수도 필요(출력레이블 또는 응답이라 표현)"
   ]
  },
  {
   "cell_type": "code",
   "execution_count": null,
   "metadata": {},
   "outputs": [],
   "source": []
  }
 ],
 "metadata": {
  "kernelspec": {
   "display_name": "Python 3",
   "language": "python",
   "name": "python3"
  },
  "language_info": {
   "codemirror_mode": {
    "name": "ipython",
    "version": 3
   },
   "file_extension": ".py",
   "mimetype": "text/x-python",
   "name": "python",
   "nbconvert_exporter": "python",
   "pygments_lexer": "ipython3",
   "version": "3.6.4"
  }
 },
 "nbformat": 4,
 "nbformat_minor": 2
}

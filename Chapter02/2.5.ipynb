{
 "cells": [
  {
   "cell_type": "markdown",
   "metadata": {},
   "source": [
    "# 요약 및 정리"
   ]
  },
  {
   "cell_type": "markdown",
   "metadata": {},
   "source": [
    "### 모델 요약\n",
    "\n",
    " - 최근접 이웃\n",
    "   - 작은 데이터 셋일 경우, 기본 모델로서 좋으며 설명하기 쉬움\n",
    " \n",
    " - 선형 모델\n",
    "   - 첫 번째로 시도할 알고리즘\n",
    "   - 대용량 데이터셋 가능\n",
    "   - 고차원 데이터 가능\n",
    "   \n",
    " - 나이즈 베이즈\n",
    "   - 분류만 가능\n",
    "   - 선형 모델보다 빠름\n",
    "   - 대용량 데이터셋과 고차원 데이터에 가능\n",
    "   - 선형 모델보다 부정확함\n",
    "   \n",
    " - 결정 트리\n",
    "   - 매우 빠름\n",
    "   - 데이터 스케일 조정이 필요 없음\n",
    "   - 시각화가 좋고 설명이 쉬움\n",
    "   \n",
    " - 랜덤 포레스트\n",
    "   - 결정 트리 하나보다 거의 항상 좋은 성능을 보임\n",
    "   - 매우 안정적이고 강력함\n",
    "   - 데이터 스케일 조정 필요 없음\n",
    "   - 고차원 희소 데이터에는 잘 맞지 않음\n",
    "   \n",
    " - 그래디언트 부스팅 결정 트리\n",
    "   - 랜덤 포레스트보다 조금 더 성능이 좋음\n",
    "   - 랜덤 포레스트보다 학습은 느리나 예측은 빠르고 메모리를 조금 사용\n",
    "   - 랜덤 포르스트보다 매개변수 튜닝이 많이 필요함\n",
    "   \n",
    " - 서포트 백터 머신\n",
    "   - 비슷한 의미의 특성으로 이루어진 중간 규모 데이터셋에 잘 맞음\n",
    "   - 데이터 스케일 조정 필요\n",
    "   - 매개변수에 민감\n",
    "   \n",
    " - 신경망\n",
    "   - 특별히 대용량 데이터셋에서 매우 복잡한 모델을 만들 수 있음\n",
    "   - 매개변수 선택과 데이터스케일에 민감\n",
    "   - 큰 모델은 학습이 오래 걸림\n",
    "   "
   ]
  },
  {
   "cell_type": "code",
   "execution_count": null,
   "metadata": {},
   "outputs": [],
   "source": []
  }
 ],
 "metadata": {
  "kernelspec": {
   "display_name": "Python 3",
   "language": "python",
   "name": "python3"
  },
  "language_info": {
   "codemirror_mode": {
    "name": "ipython",
    "version": 3
   },
   "file_extension": ".py",
   "mimetype": "text/x-python",
   "name": "python",
   "nbconvert_exporter": "python",
   "pygments_lexer": "ipython3",
   "version": "3.6.4"
  }
 },
 "nbformat": 4,
 "nbformat_minor": 2
}

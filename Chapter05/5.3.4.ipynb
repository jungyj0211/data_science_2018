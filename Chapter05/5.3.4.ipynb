{
 "cells": [
  {
   "cell_type": "markdown",
   "metadata": {},
   "source": [
    "### 회귀 평가 지표"
   ]
  },
  {
   "cell_type": "markdown",
   "metadata": {},
   "source": [
    "\n",
    "- [note]: http://scikit-learn.org/stable/modules/model_evaluation.html#regression-metrics\n",
    "<br/><br/>\n",
    "- **Explained variance score**\n",
    "![...](http://scikit-learn.org/stable/_images/math/494cda4d8d05a44aa9aa20de549468e4d121e04c.png)\n",
    "\n",
    "  - $\\hat{y}$: the estimated target output\n",
    "  - $y$: the corresponding (correct) target output\n",
    "  - $Var$: Variance"
   ]
  },
  {
   "cell_type": "markdown",
   "metadata": {},
   "source": [
    "- **Mean absolute error**\n",
    "![...](http://scikit-learn.org/stable/_images/math/c38d771fb5eb121916c06cf8c651363583d17794.png)\n",
    "\n",
    "  - $\\hat{y}_i$: the predicted value of the $i$-th sample \n",
    "  - $y_i$: the corresponding (correct) target output\n",
    "  - $n_{samples}$: the number of target samples"
   ]
  },
  {
   "cell_type": "markdown",
   "metadata": {},
   "source": [
    "- **Mean squared error**\n",
    "![...](http://scikit-learn.org/stable/_images/math/44f36557fef9b30b077b21550490a1b9a0ade154.png)\n",
    "\n",
    "  - $\\hat{y}_i$: the predicted value of the $i$-th sample \n",
    "  - $y_i$: the corresponding (correct) target output\n",
    "  - $n_{samples}$: the number of target samples"
   ]
  },
  {
   "cell_type": "markdown",
   "metadata": {},
   "source": [
    "- **Mean squared logarithmic error**\n",
    "![...](http://scikit-learn.org/stable/_images/math/7ab9dd9a29d207d773d08e4d1a0fc370f9b1fa35.png)\n",
    "  - This metric is best to use when targets having exponential growth, such as population counts, average sales of a commodity over a span of years etc.\n",
    "  - $\\hat{y}_i$: the predicted value of the $i$-th sample \n",
    "  - $y_i$: the corresponding (correct) target output\n",
    "  - $n_{samples}$: the number of target samples"
   ]
  },
  {
   "cell_type": "markdown",
   "metadata": {},
   "source": [
    "- **Median absolute error**\n",
    "![...](http://scikit-learn.org/stable/_images/math/9252f9de0d8c2043cf34a26e6f2643a6e66540b9.png)\n",
    "  - It is particularly interesting because it is robust to outliers.\n",
    "  - The loss is calculated by taking the median of all absolute differences between the target and the prediction.\n",
    "  - $\\hat{y}_i$: the predicted value of the $i$-th sample \n",
    "  - $y_i$: the corresponding (correct) target output"
   ]
  },
  {
   "cell_type": "markdown",
   "metadata": {},
   "source": [
    "- **$R^2$ score (the coefficient of determination)**\n",
    "![...](http://scikit-learn.org/stable/_images/math/bdab7d608c772b3e382e2822a73ef557c80fbca2.png)\n",
    "  - where \n",
    "![...](http://scikit-learn.org/stable/_images/math/4b4e8ee0c1363ed7f781ed3a12073cfd169e3f79.png)\n",
    "  - It provides a measure of how well future samples are likely to be predicted by the model.\n",
    "  - $\\hat{y}_i$: the predicted value of the $i$-th sample \n",
    "  - $y_i$: the corresponding (correct) target output"
   ]
  },
  {
   "cell_type": "code",
   "execution_count": 1,
   "metadata": {},
   "outputs": [],
   "source": [
    "%matplotlib inline\n",
    "import sys \n",
    "sys.path.append('..')\n",
    "from preamble import *"
   ]
  },
  {
   "cell_type": "code",
   "execution_count": 2,
   "metadata": {},
   "outputs": [
    {
     "name": "stdout",
     "output_type": "stream",
     "text": [
      "explained_variance_score: 0.9571734475374732\n",
      "mean_absolute_error: 0.5\n",
      "mean_squared_error: 0.375\n",
      "median_absolute_error: 0.5\n",
      "r2_score: 0.9486081370449679\n"
     ]
    }
   ],
   "source": [
    "from sklearn.metrics import explained_variance_score\n",
    "from sklearn.metrics import mean_absolute_error\n",
    "from sklearn.metrics import mean_squared_error\n",
    "# from sklearn.metrics import mean_squared_log_error\n",
    "from sklearn.metrics import median_absolute_error\n",
    "from sklearn.metrics import r2_score\n",
    "\n",
    "y_test = [3, -0.5, 2, 7]\n",
    "y_pred = [2.5, 0.0, 2, 8]\n",
    "\n",
    "print(\"explained_variance_score:\", explained_variance_score(y_test, y_pred))\n",
    "print(\"mean_absolute_error:\", mean_absolute_error(y_test, y_pred))\n",
    "print(\"mean_squared_error:\", mean_squared_error(y_test, y_pred))\n",
    "# print(\"mean_squared_log_error:\", mean_squared_log_error(y_test, y_pred))\n",
    "print(\"median_absolute_error:\", median_absolute_error(y_test, y_pred))\n",
    "print(\"r2_score:\", r2_score(y_test, y_pred))"
   ]
  },
  {
   "cell_type": "code",
   "execution_count": 3,
   "metadata": {},
   "outputs": [
    {
     "name": "stdout",
     "output_type": "stream",
     "text": [
      "X shape: (200, 1)\n",
      "y shape: (200,)\n",
      "X_train shape: (150, 1)\n",
      "X_test shape: (50, 1)\n",
      "\n",
      "Best cross-validation accuracy: 0.67\n",
      "Best parameters:\n",
      "{'alpha': 0.1, 'learning_rate': 0.1}\n",
      "Best estimator:\n",
      "GradientBoostingRegressor(alpha=0.1, criterion='friedman_mse', init=None,\n",
      "             learning_rate=0.1, loss='ls', max_depth=3, max_features=None,\n",
      "             max_leaf_nodes=None, min_impurity_decrease=0.0,\n",
      "             min_impurity_split=None, min_samples_leaf=1,\n",
      "             min_samples_split=2, min_weight_fraction_leaf=0.0,\n",
      "             n_estimators=100, presort='auto', random_state=None,\n",
      "             subsample=1.0, verbose=0, warm_start=False)\n",
      "Test set score: 0.62\n",
      "\n",
      "explained_variance_score: 0.6333933570920071\n",
      "mean_absolute_error: 0.4410440244803421\n",
      "mean_squared_error: 0.2945365131871811\n",
      "median_absolute_error: 0.37617245551529926\n",
      "r2_score: 0.6195689836183305\n"
     ]
    }
   ],
   "source": [
    "import warnings\n",
    "from sklearn.model_selection import train_test_split\n",
    "warnings.filterwarnings('ignore')\n",
    "from sklearn.ensemble import GradientBoostingRegressor\n",
    "from sklearn.model_selection import GridSearchCV\n",
    "\n",
    "X, y = mglearn.datasets.make_wave(n_samples=200)\n",
    "print(\"X shape: {}\".format(X.shape))\n",
    "print(\"y shape: {}\".format(y.shape))\n",
    "\n",
    "X_train, X_test, y_train, y_test = train_test_split(X, y, random_state=42)\n",
    "print(\"X_train shape: {}\".format(X_train.shape))\n",
    "print(\"X_test shape: {}\".format(X_test.shape))\n",
    "\n",
    "print()\n",
    "\n",
    "param_grid = {    \n",
    "    'learning_rate': [0.001, 0.01, 0.1, 1, 10, 100],\n",
    "    'alpha': [0.1, 0.3, 0.5, 0.7, 0.9]\n",
    "}\n",
    "\n",
    "estimator = GradientBoostingRegressor()\n",
    "\n",
    "grid_search = GridSearchCV(\n",
    "    estimator = estimator, \n",
    "    param_grid = param_grid, \n",
    "    n_jobs = -1, \n",
    "    cv = 5, \n",
    "    return_train_score = True\n",
    ")\n",
    "\n",
    "grid_search.fit(X_train, y_train)\n",
    "print(\"Best cross-validation accuracy: {:.2f}\".format(grid_search.best_score_))\n",
    "print(\"Best parameters:\\n{}\".format(grid_search.best_params_))\n",
    "print(\"Best estimator:\\n{}\".format(grid_search.best_estimator_))\n",
    "\n",
    "print(\"Test set score: {:.2f}\".format(grid_search.score(X_test, y_test)))\n",
    "\n",
    "y_pred = grid_search.predict(X_test)\n",
    "\n",
    "print()\n",
    "\n",
    "# Possible scoring\n",
    "print(\"explained_variance_score:\", explained_variance_score(y_test, y_pred))\n",
    "print(\"mean_absolute_error:\", mean_absolute_error(y_test, y_pred))\n",
    "print(\"mean_squared_error:\", mean_squared_error(y_test, y_pred))\n",
    "#print(\"mean_squared_log_error:\", mean_squared_log_error(y_test, y_pred))\n",
    "print(\"median_absolute_error:\", median_absolute_error(y_test, y_pred))\n",
    "print(\"r2_score:\", r2_score(y_test, y_pred))"
   ]
  }
 ],
 "metadata": {
  "kernelspec": {
   "display_name": "Python 3",
   "language": "python",
   "name": "python3"
  },
  "language_info": {
   "codemirror_mode": {
    "name": "ipython",
    "version": 3
   },
   "file_extension": ".py",
   "mimetype": "text/x-python",
   "name": "python",
   "nbconvert_exporter": "python",
   "pygments_lexer": "ipython3",
   "version": "3.6.4"
  }
 },
 "nbformat": 4,
 "nbformat_minor": 2
}

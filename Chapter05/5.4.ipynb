{
 "cells": [
  {
   "cell_type": "markdown",
   "metadata": {},
   "source": [
    "# 요약 및 정리"
   ]
  },
  {
   "cell_type": "markdown",
   "metadata": {},
   "source": [
    "  ### 1. 교차 검증!\n",
    "    - 교차 검증 또는 테스트 세트를 사용하면 머신러닝 모델의 미래 성능을 평가 할 수 있음\n",
    "    - 하지만 테스트 세트나 교차 검증을 모델이나 모델의 매개변수 선택에 사용하면 테스트 데이터로 미래 성능을 평가했을 때 매우 낙관적인 예측치를 얻게 됨\n",
    "    - 그러므로 모델 학습에는 훈련 데이터로, 모델과 매개변수 선택에는 검증 데이터로, 모델평가에는 테스트 데이터로 분리해서 사용!\n",
    "    \n",
    "  ### 2. 평가 지표와 방법!\n",
    "    - 머신러닝 작업의 최종 목적이 높은 정확도의 모델을 만드는 데서 끝나는 일은 없음\n",
    "    - 모델을 평가하고 선택하기 위한 지표가 해당하는 모델이 실제로 사용되는 상황을 잘 대변해야 함\n",
    "    - 실전에서는 분류 문제에 균형 잡힌 클래스를 가진 경우는 거의 없고, 거짓 양성(FP)과 거짓 음성(FN)이 매우 큰 영향을 미침\n",
    "    - 이러한 영향을 이해하고 적절한 평가 지표를 선택해야 함"
   ]
  }
 ],
 "metadata": {
  "kernelspec": {
   "display_name": "Python 3",
   "language": "python",
   "name": "python3"
  },
  "language_info": {
   "codemirror_mode": {
    "name": "ipython",
    "version": 3
   },
   "file_extension": ".py",
   "mimetype": "text/x-python",
   "name": "python",
   "nbconvert_exporter": "python",
   "pygments_lexer": "ipython3",
   "version": "3.6.4"
  }
 },
 "nbformat": 4,
 "nbformat_minor": 2
}

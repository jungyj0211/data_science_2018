{
 "cells": [
  {
   "cell_type": "markdown",
   "metadata": {},
   "source": [
    "### 5.2 그리드 서치\n",
    "- 모델 매개변수 튜닝을 통한 일반화 성능 개선 \n",
    "- 가장 널리 사용되는 방법은 Grid Search (그리드 탐색)\n",
    "  - 관심있는 매개변수들을 대상으로 모든 조합을 시도함."
   ]
  },
  {
   "cell_type": "markdown",
   "metadata": {},
   "source": [
    "#### 5.2.1 간단한 그리드 서치\n",
    "- SVC 모델에서 가장 중요한 매개변수는 gamma, C\n",
    "- 그리드 탐색 범위 설정 예\n",
    "  - gamma: [0.001, 0.01, 0.1, 1, 10, 100]\n",
    "  - C: [0.001, 0.01, 0.1, 1, 10, 100]\n",
    "  - 총 6x6=36개의 조합에 대하여 반복적으로 새로운 모델 생성 및 평가\n",
    "  - 가장 좋은 성능을 보여주는 gamma와 C의 조합을 찾음"
   ]
  },
  {
   "cell_type": "markdown",
   "metadata": {},
   "source": [
    "<table>\n",
    "    <tr>\n",
    "        <td>&nbsp;</td>\n",
    "        <td>C=0.001</td>\n",
    "        <td>C=0.01</td>\n",
    "        <td>C=0.1</td>\n",
    "        <td>C=1</td>\n",
    "        <td>C=10</td>\n",
    "        <td>C=100</td>\n",
    "    </tr>\n",
    "    <tr>\n",
    "        <td>gamma=0.001</td>\n",
    "        <td>SVC(C=0.001, gamma=0.001)</td>\n",
    "        <td>SVC(C=0.01, gamma=0.001)</td>\n",
    "        <td>SVC(C=0.1, gamma=0.001)</td>\n",
    "        <td>SVC(C=1, gamma=0.001)</td>\n",
    "        <td>SVC(C=10, gamma=0.001)</td>\n",
    "        <td>SVC(C=100, gamma=0.001)</td>\n",
    "    </tr>\n",
    "    <tr>\n",
    "        <td>gamma=0.01</td>\n",
    "        <td>SVC(C=0.001, gamma=0.01)</td>\n",
    "        <td>SVC(C=0.01, gamma=0.01)</td>\n",
    "        <td>SVC(C=0.1, gamma=0.01)</td>\n",
    "        <td>SVC(C=1, gamma=0.01)</td>\n",
    "        <td>SVC(C=10, gamma=0.01)</td>\n",
    "        <td>SVC(C=100, gamma=0.01)</td>\n",
    "    </tr>\n",
    "    <tr>\n",
    "        <td>gamma=0.1</td>\n",
    "        <td>SVC(C=0.001, gamma=0.1)</td>\n",
    "        <td>SVC(C=0.01, gamma=0.1)</td>\n",
    "        <td>SVC(C=0.1, gamma=0.1)</td>\n",
    "        <td>SVC(C=1, gamma=0.1)</td>\n",
    "        <td>SVC(C=10, gamma=0.1)</td>\n",
    "        <td>SVC(C=100, gamma=0.1)</td>\n",
    "    </tr>\n",
    "    <tr>\n",
    "        <td>gamma=1</td>\n",
    "        <td>SVC(C=0.001, gamma=1)</td>\n",
    "        <td>SVC(C=0.01, gamma=1)</td>\n",
    "        <td>SVC(C=0.1, gamma=1)</td>\n",
    "        <td>SVC(C=1, gamma=1)</td>\n",
    "        <td>SVC(C=10, gamma=1)</td>\n",
    "        <td>SVC(C=100, gamma=1)</td>\n",
    "    </tr>\n",
    "    <tr>\n",
    "        <td>gamma=10</td>\n",
    "        <td>SVC(C=0.001, gamma=10)</td>\n",
    "        <td>SVC(C=0.01, gamma=10)</td>\n",
    "        <td>SVC(C=0.1, gamma=10)</td>\n",
    "        <td>SVC(C=1, gamma=10)</td>\n",
    "        <td>SVC(C=10, gamma=10)</td>\n",
    "        <td>SVC(C=100, gamma=10)</td>\n",
    "    </tr>\n",
    "    <tr>\n",
    "        <td>gamma=100</td>\n",
    "        <td>SVC(C=0.001, gamma=100)</td>\n",
    "        <td>SVC(C=0.01, gamma=100)</td>\n",
    "        <td>SVC(C=0.1, gamma=100)</td>\n",
    "        <td>SVC(C=1, gamma=100)</td>\n",
    "        <td>SVC(C=10, gamma=100)</td>\n",
    "        <td>SVC(C=100, gamma=100)</td>\n",
    "    </tr>    \n",
    "</table>"
   ]
  },
  {
   "cell_type": "code",
   "execution_count": 1,
   "metadata": {},
   "outputs": [
    {
     "name": "stdout",
     "output_type": "stream",
     "text": [
      "Size of training set: 112   size of test set: 38\n",
      "Best score: 0.97\n",
      "Best parameters: {'C': 100, 'gamma': 0.001}\n"
     ]
    }
   ],
   "source": [
    "%matplotlib inline\n",
    "import sys \n",
    "sys.path.append('..')\n",
    "from preamble import *\n",
    "\n",
    "from sklearn.datasets import make_blobs\n",
    "from sklearn.linear_model import LogisticRegression\n",
    "from sklearn.model_selection import train_test_split\n",
    "\n",
    "# naive grid search implementation\n",
    "from sklearn.svm import SVC\n",
    "from sklearn.datasets import load_iris\n",
    "iris = load_iris()\n",
    "\n",
    "X_train, X_test, y_train, y_test = train_test_split(iris.data, iris.target, random_state=0)\n",
    "print(\"Size of training set: {}   size of test set: {}\".format(X_train.shape[0], X_test.shape[0]))\n",
    "\n",
    "best_score = 0\n",
    "\n",
    "for gamma in [0.001, 0.01, 0.1, 1, 10, 100]:\n",
    "    for C in [0.001, 0.01, 0.1, 1, 10, 100]:\n",
    "        # for each combination of parameters, train an SVC\n",
    "        svm = SVC(gamma=gamma, C=C)\n",
    "        svm.fit(X_train, y_train)\n",
    "        # evaluate the SVC on the test set\n",
    "        score = svm.score(X_test, y_test)\n",
    "        # if we got a better score, store the score and parameters\n",
    "        if score > best_score:\n",
    "            best_score = score\n",
    "            best_parameters = {'C': C, 'gamma': gamma}\n",
    "\n",
    "print(\"Best score: {:.2f}\".format(best_score))\n",
    "print(\"Best parameters: {}\".format(best_parameters))"
   ]
  },
  {
   "cell_type": "markdown",
   "metadata": {},
   "source": [
    "- 위 0.97의 정확도는 전혀 새로운 데이터에 대한 성능으로 이어지지 않을 수 있다.\n",
    "- 즉, 위 예제에서 사용한 테스트 데이터는 모델 구성시에 사용을 해버렸기 때문에 이 모델이 얼마나 좋은지 평가하는 데 더 이상 사용할 수 없다."
   ]
  }
 ],
 "metadata": {
  "kernelspec": {
   "display_name": "Python 3",
   "language": "python",
   "name": "python3"
  },
  "language_info": {
   "codemirror_mode": {
    "name": "ipython",
    "version": 3
   },
   "file_extension": ".py",
   "mimetype": "text/x-python",
   "name": "python",
   "nbconvert_exporter": "python",
   "pygments_lexer": "ipython3",
   "version": "3.6.4"
  }
 },
 "nbformat": 4,
 "nbformat_minor": 2
}

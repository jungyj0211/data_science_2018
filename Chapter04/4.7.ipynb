{
 "cells": [
  {
   "cell_type": "markdown",
   "metadata": {},
   "source": [
    "# 요약 및 정리"
   ]
  },
  {
   "cell_type": "markdown",
   "metadata": {},
   "source": [
    "  - 원-핫-인코딩 범주형 변수처럼 머신러닝 알고리즘에 적합한 방식으로 데이터를 표현하는 것이 아주 중요함\n",
    "  - 새로운 특성을 만드는 것과 데이터에서 특성을 유도하기 위해 전문가 지식 활용 가능\n",
    "  - 선형 모델은 구간 분할이나 다항식과 상호작용 특성을 추가해 큰 이득을 얻을 수 있음\n",
    "  - 반면 랜덤 포레스트나 SVM같은 비선형 모델은 특성을 늘리지 않고 복잡한 문제의 학습이 가능\n",
    "  - 어떤 특성을 사용하는가!, 특성과 모델의 궁합. 이 두가지가 가장 중요"
   ]
  },
  {
   "cell_type": "code",
   "execution_count": null,
   "metadata": {},
   "outputs": [],
   "source": []
  }
 ],
 "metadata": {
  "kernelspec": {
   "display_name": "Python 3",
   "language": "python",
   "name": "python3"
  },
  "language_info": {
   "codemirror_mode": {
    "name": "ipython",
    "version": 3
   },
   "file_extension": ".py",
   "mimetype": "text/x-python",
   "name": "python",
   "nbconvert_exporter": "python",
   "pygments_lexer": "ipython3",
   "version": "3.6.4"
  }
 },
 "nbformat": 4,
 "nbformat_minor": 2
}
